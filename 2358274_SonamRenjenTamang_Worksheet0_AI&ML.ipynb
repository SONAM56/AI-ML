{
  "nbformat": 4,
  "nbformat_minor": 0,
  "metadata": {
    "colab": {
      "provenance": []
    },
    "kernelspec": {
      "name": "python3",
      "display_name": "Python 3"
    },
    "language_info": {
      "name": "python"
    }
  },
  "cells": [
    {
      "cell_type": "markdown",
      "source": [
        "# Exercise on Functions:"
      ],
      "metadata": {
        "id": "IakKOxD_7Uh0"
      }
    },
    {
      "cell_type": "markdown",
      "source": [
        "# Task-1 Unit Conversion"
      ],
      "metadata": {
        "id": "y1YbreQg7WmW"
      }
    },
    {
      "cell_type": "code",
      "execution_count": 1,
      "metadata": {
        "colab": {
          "base_uri": "https://localhost:8080/"
        },
        "id": "0GBeNf3F6HNk",
        "outputId": "00a61f82-ee92-4f35-c0c9-6c60d971f883"
      },
      "outputs": [
        {
          "output_type": "stream",
          "name": "stdout",
          "text": [
            "Welcome to the Unit Converter!\n",
            "Available conversions:\n",
            "1. Length: meters to feet, feet to meters\n",
            "2. Weight: kilograms to pounds, pounds to kilograms\n",
            "3. Volume: liters to gallons, gallons to liters\n",
            "Choose the type of conversion (1, 2, or 3): 1\n",
            "Enter the value to be converted: 12\n",
            "Choose conversion (m_to_ft or ft_to_m): m_to_ft\n",
            "Converted value: 39.37008\n"
          ]
        }
      ],
      "source": [
        "# Import necessary libraries\n",
        "import time\n",
        "def convert_length(value, unit):\n",
        "    if unit == 'm_to_ft':\n",
        "        return value * 3.28084\n",
        "    elif unit == 'ft_to_m':\n",
        "        return value / 3.28084\n",
        "    else:\n",
        "        raise ValueError(\"Invalid unit for length conversion.\")\n",
        "\n",
        "def convert_weight(value, unit):\n",
        "    if unit == 'kg_to_lbs':\n",
        "        return value * 2.20462\n",
        "    elif unit == 'lbs_to_kg':\n",
        "        return value / 2.20462\n",
        "    else:\n",
        "        raise ValueError(\"Invalid unit for weight conversion.\")\n",
        "\n",
        "def convert_volume(value, unit):\n",
        "    if unit == 'L_to_gal':\n",
        "        return value * 0.264172\n",
        "    elif unit == 'gal_to_L':\n",
        "        return value / 0.264172\n",
        "    else:\n",
        "        raise ValueError(\"Invalid unit for volume conversion.\")\n",
        "\n",
        "def main():\n",
        "    print(\"Welcome to the Unit Converter!\")\n",
        "    print(\"Available conversions:\")\n",
        "    print(\"1. Length: meters to feet, feet to meters\")\n",
        "    print(\"2. Weight: kilograms to pounds, pounds to kilograms\")\n",
        "    print(\"3. Volume: liters to gallons, gallons to liters\")\n",
        "\n",
        "    try:\n",
        "        conversion_type = int(input(\"Choose the type of conversion (1, 2, or 3): \"))\n",
        "        value = float(input(\"Enter the value to be converted: \"))\n",
        "\n",
        "        if conversion_type == 1:\n",
        "            unit = input(\"Choose conversion (m_to_ft or ft_to_m): \")\n",
        "            result = convert_length(value, unit)\n",
        "            print(f\"Converted value: {result}\")\n",
        "        elif conversion_type == 2:\n",
        "            unit = input(\"Choose conversion (kg_to_lbs or lbs_to_kg): \")\n",
        "            result = convert_weight(value, unit)\n",
        "            print(f\"Converted value: {result}\")\n",
        "        elif conversion_type == 3:\n",
        "            unit = input(\"Choose conversion (L_to_gal or gal_to_L): \")\n",
        "            result = convert_volume(value, unit)\n",
        "            print(f\"Converted value: {result}\")\n",
        "        else:\n",
        "            print(\"Invalid conversion type selected.\")\n",
        "    except ValueError as e:\n",
        "        print(f\"Error: {e}\")\n",
        "\n",
        "main()"
      ]
    },
    {
      "cell_type": "markdown",
      "source": [
        "# Task-2 Math Operation on List of Numbers"
      ],
      "metadata": {
        "id": "vpyGmyOG88bx"
      }
    },
    {
      "cell_type": "code",
      "source": [
        "#Task2\n",
        "def calculate_sum(numbers):\n",
        "    \"\"\"\n",
        "    Calculates the sum of a list of numbers.\n",
        "\n",
        "    Parameters:\n",
        "    numbers (list): A list of numbers.\n",
        "\n",
        "    Returns:\n",
        "    float: The sum of the numbers.\n",
        "    \"\"\"\n",
        "    return sum(numbers)\n",
        "\n",
        "def calculate_average(numbers):\n",
        "    \"\"\"\n",
        "    Calculates the average of a list of numbers.\n",
        "\n",
        "    Parameters:\n",
        "    numbers (list): A list of numbers.\n",
        "\n",
        "    Returns:\n",
        "    float: The average of the numbers.\n",
        "    \"\"\"\n",
        "    return sum(numbers) / len(numbers)\n",
        "\n",
        "def find_maximum(numbers):\n",
        "    \"\"\"\n",
        "    Finds the maximum value in a list of numbers.\n",
        "\n",
        "    Parameters:\n",
        "    numbers (list): A list of numbers.\n",
        "\n",
        "    Returns:\n",
        "    float: The maximum value.\n",
        "    \"\"\"\n",
        "    return max(numbers)\n",
        "\n",
        "def find_minimum(numbers):\n",
        "    \"\"\"\n",
        "    Finds the minimum value in a list of numbers.\n",
        "\n",
        "    Parameters:\n",
        "    numbers (list): A list of numbers.\n",
        "\n",
        "    Returns:\n",
        "    float: The minimum value.\n",
        "    \"\"\"\n",
        "    return min(numbers)\n",
        "\n",
        "def main():\n",
        "    print(\"Welcome to the Mathematical Operations Program!\")\n",
        "    print(\"Available operations:\")\n",
        "    print(\"1. Sum\")\n",
        "    print(\"2. Average\")\n",
        "    print(\"3. Maximum\")\n",
        "    print(\"4. Minimum\")\n",
        "\n",
        "    try:\n",
        "        operation = int(input(\"Choose the operation (1, 2, 3, or 4): \"))\n",
        "        numbers = list(map(float, input(\"Enter a list of numbers separated by spaces: \").split()))\n",
        "\n",
        "        if operation == 1:\n",
        "            result = calculate_sum(numbers)\n",
        "            print(f\"Sum: {result}\")\n",
        "        elif operation == 2:\n",
        "            result = calculate_average(numbers)\n",
        "            print(f\"Average: {result}\")\n",
        "        elif operation == 3:\n",
        "            result = find_maximum(numbers)\n",
        "            print(f\"Maximum: {result}\")\n",
        "        elif operation == 4:\n",
        "            result = find_minimum(numbers)\n",
        "            print(f\"Minimum: {result}\")\n",
        "        else:\n",
        "            print(\"Invalid operation selected.\")\n",
        "    except ValueError as e:\n",
        "        print(f\"Error: {e}\")\n",
        "    except ZeroDivisionError:\n",
        "        print(\"Error: Cannot calculate average of an empty list.\")\n",
        "\n",
        "main()"
      ],
      "metadata": {
        "colab": {
          "base_uri": "https://localhost:8080/"
        },
        "id": "a637-2Nb828D",
        "outputId": "494eeafc-f8e7-4a84-e292-21481260f1d6"
      },
      "execution_count": 6,
      "outputs": [
        {
          "output_type": "stream",
          "name": "stdout",
          "text": [
            "Welcome to the Mathematical Operations Program!\n",
            "Available operations:\n",
            "1. Sum\n",
            "2. Average\n",
            "3. Maximum\n",
            "4. Minimum\n",
            "Choose the operation (1, 2, 3, or 4): 2\n",
            "Enter a list of numbers separated by spaces:  2 3 5 8 9 10\n",
            "Average: 6.166666666666667\n"
          ]
        }
      ]
    },
    {
      "cell_type": "markdown",
      "source": [
        "# Exercise on List Manipulation:"
      ],
      "metadata": {
        "id": "G-7nf6xl-RJR"
      }
    },
    {
      "cell_type": "code",
      "source": [
        "#Task3\n",
        "def extract_every_other(lst):\n",
        "    \"\"\"\n",
        "    Extracts every other element from a list, starting from the first element.\n",
        "\n",
        "    Parameters:\n",
        "    lst (list): The input list.\n",
        "\n",
        "    Returns:\n",
        "    list: A new list containing every other element.\n",
        "    \"\"\"\n",
        "    return lst[::2]\n",
        "\n",
        "extract_every_other([1, 2, 3, 4, 5, 6], )"
      ],
      "metadata": {
        "colab": {
          "base_uri": "https://localhost:8080/"
        },
        "id": "6GTq_Suj-I1C",
        "outputId": "e497a560-1c93-4caf-dded-5e171ba6e537"
      },
      "execution_count": 7,
      "outputs": [
        {
          "output_type": "execute_result",
          "data": {
            "text/plain": [
              "[1, 3, 5]"
            ]
          },
          "metadata": {},
          "execution_count": 7
        }
      ]
    },
    {
      "cell_type": "code",
      "source": [
        "#Task 4\n",
        "def get_sublist(lst, start, end):\n",
        "    \"\"\"\n",
        "    Returns a sublist from a given list, starting from a specified index and ending at another specified index.\n",
        "\n",
        "    Parameters:\n",
        "    lst (list): The input list.\n",
        "    start (int): The starting index.\n",
        "    end (int): The ending index.\n",
        "\n",
        "    Returns:\n",
        "    list: The sublist from start to end (inclusive).\n",
        "    \"\"\"\n",
        "    return lst[start:end+1]\n",
        "\n",
        "get_sublist([1, 2, 3, 4, 5, 6],2,4)"
      ],
      "metadata": {
        "colab": {
          "base_uri": "https://localhost:8080/"
        },
        "id": "MKNfojZT-c9A",
        "outputId": "fb2be480-ef2e-49b5-e92d-b9f74720cf84"
      },
      "execution_count": 8,
      "outputs": [
        {
          "output_type": "execute_result",
          "data": {
            "text/plain": [
              "[3, 4, 5]"
            ]
          },
          "metadata": {},
          "execution_count": 8
        }
      ]
    },
    {
      "cell_type": "code",
      "source": [
        "#Task5\n",
        "def reverse_list(lst):\n",
        "    \"\"\"\n",
        "    Reverses a list using slicing.\n",
        "\n",
        "    Parameters:\n",
        "    lst (list): The input list.\n",
        "\n",
        "    Returns:\n",
        "    list: The reversed list.\n",
        "    \"\"\"\n",
        "    return lst[::-1]\n",
        "\n",
        "reverse_list([1, 2, 3, 4, 5])"
      ],
      "metadata": {
        "colab": {
          "base_uri": "https://localhost:8080/"
        },
        "id": "F6EmEEOl-ft9",
        "outputId": "1f566136-51eb-4766-f69b-2c99541f70e0"
      },
      "execution_count": 9,
      "outputs": [
        {
          "output_type": "execute_result",
          "data": {
            "text/plain": [
              "[5, 4, 3, 2, 1]"
            ]
          },
          "metadata": {},
          "execution_count": 9
        }
      ]
    },
    {
      "cell_type": "code",
      "source": [
        "#Task-6\n",
        "def remove_first_last(lst):\n",
        "    \"\"\"\n",
        "    Removes the first and last elements of a list and returns the resulting sublist.\n",
        "\n",
        "    Parameters:\n",
        "    lst (list): The input list.\n",
        "\n",
        "    Returns:\n",
        "    list: The sublist without the first and last elements.\n",
        "    \"\"\"\n",
        "    return lst[1:-1]\n",
        "\n",
        "remove_first_last([1, 2, 3, 4, 5])"
      ],
      "metadata": {
        "colab": {
          "base_uri": "https://localhost:8080/"
        },
        "id": "qC19BJ28-hFy",
        "outputId": "bdd935f1-cd3f-4a78-8883-b5745d17bcc2"
      },
      "execution_count": 10,
      "outputs": [
        {
          "output_type": "execute_result",
          "data": {
            "text/plain": [
              "[2, 3, 4]"
            ]
          },
          "metadata": {},
          "execution_count": 10
        }
      ]
    },
    {
      "cell_type": "code",
      "source": [
        "#Task-7\n",
        "def get_first_n(lst, n):\n",
        "    \"\"\"\n",
        "    Extracts the first n elements from a list.\n",
        "\n",
        "    Parameters:\n",
        "    lst (list): The input list.\n",
        "    n (int): The number of elements to extract.\n",
        "\n",
        "    Returns:\n",
        "    list: The first n elements of the list.\n",
        "    \"\"\"\n",
        "    return lst[:n]\n",
        "\n",
        "get_first_n([1, 2, 3, 4, 5],3)"
      ],
      "metadata": {
        "colab": {
          "base_uri": "https://localhost:8080/"
        },
        "id": "snyHwxgP-kJJ",
        "outputId": "35b24339-acc6-48ff-fe19-fc8f07610324"
      },
      "execution_count": 11,
      "outputs": [
        {
          "output_type": "execute_result",
          "data": {
            "text/plain": [
              "[1, 2, 3]"
            ]
          },
          "metadata": {},
          "execution_count": 11
        }
      ]
    },
    {
      "cell_type": "code",
      "source": [
        "#Task8\n",
        "def get_last_n(lst, n):\n",
        "    \"\"\"\n",
        "    Extracts the last n elements of a list using slicing.\n",
        "\n",
        "    Parameters:\n",
        "    lst (list): The input list.\n",
        "    n (int): The number of elements to extract.\n",
        "\n",
        "    Returns:\n",
        "    list: The last n elements of the list.\n",
        "    \"\"\"\n",
        "    return lst[-n:]\n",
        "\n",
        "get_last_n([1, 2, 3, 4, 5],2)"
      ],
      "metadata": {
        "colab": {
          "base_uri": "https://localhost:8080/"
        },
        "id": "B3oUanHY-sT_",
        "outputId": "888d6782-fb83-446c-dd68-07f77d72f841"
      },
      "execution_count": 12,
      "outputs": [
        {
          "output_type": "execute_result",
          "data": {
            "text/plain": [
              "[4, 5]"
            ]
          },
          "metadata": {},
          "execution_count": 12
        }
      ]
    },
    {
      "cell_type": "code",
      "source": [
        "#Task- 9\n",
        "def reverse_skip(lst):\n",
        "    \"\"\"\n",
        "    Extracts a list of elements in reverse order starting from the second-to-last element and skipping one element in between.\n",
        "\n",
        "    Parameters:\n",
        "    lst (list): The input list.\n",
        "\n",
        "    Returns:\n",
        "    list: A new list containing every second element starting from the second-to-last, moving backward.\n",
        "    \"\"\"\n",
        "    return lst[-2::-2]\n",
        "\n",
        "reverse_skip([1, 2, 3, 4, 5, 6])"
      ],
      "metadata": {
        "colab": {
          "base_uri": "https://localhost:8080/"
        },
        "id": "v8ELT7vt-wHh",
        "outputId": "d8189575-2f03-4848-ac28-ee302cddacee"
      },
      "execution_count": 13,
      "outputs": [
        {
          "output_type": "execute_result",
          "data": {
            "text/plain": [
              "[5, 3, 1]"
            ]
          },
          "metadata": {},
          "execution_count": 13
        }
      ]
    },
    {
      "cell_type": "markdown",
      "source": [
        "# Exercise on Nested List"
      ],
      "metadata": {
        "id": "nfGYpCdI-6os"
      }
    },
    {
      "cell_type": "code",
      "source": [
        "#Task-10\n",
        "def flatten(lst):\n",
        "    \"\"\"\n",
        "    Flattens a nested list into a single list.\n",
        "\n",
        "    Parameters:\n",
        "    lst (list): The nested list.\n",
        "\n",
        "    Returns:\n",
        "    list: A flattened version of the list.\n",
        "    \"\"\"\n",
        "    flat_list = []\n",
        "    for item in lst:\n",
        "        if isinstance(item, list):\n",
        "            flat_list.extend(flatten(item))\n",
        "        else:\n",
        "            flat_list.append(item)\n",
        "    return flat_list\n",
        "\n",
        "flatten([[1, 2], [3, [4, 5]], 6])"
      ],
      "metadata": {
        "colab": {
          "base_uri": "https://localhost:8080/"
        },
        "id": "_1QK7r9o--xG",
        "outputId": "47837e2d-d87d-49c5-91d7-de18d71cafdf"
      },
      "execution_count": 14,
      "outputs": [
        {
          "output_type": "execute_result",
          "data": {
            "text/plain": [
              "[1, 2, 3, 4, 5, 6]"
            ]
          },
          "metadata": {},
          "execution_count": 14
        }
      ]
    },
    {
      "cell_type": "code",
      "source": [
        "#Task-11\n",
        "def access_nested_element(lst, indices):\n",
        "    \"\"\"\n",
        "    Extracts a specific element from a nested list given its indices.\n",
        "\n",
        "    Parameters:\n",
        "    lst (list): The nested list.\n",
        "    indices (list): A list of indices.\n",
        "\n",
        "    Returns:\n",
        "    any: The element at the specified position.\n",
        "    \"\"\"\n",
        "    for index in indices:\n",
        "        lst = lst[index]\n",
        "    return lst\n",
        "access_nested_element([[1, 2, 3], [4, 5, 6], [7, 8, 9]],[1,2])"
      ],
      "metadata": {
        "colab": {
          "base_uri": "https://localhost:8080/"
        },
        "id": "0AXgpErF_G2g",
        "outputId": "f82bc0ca-1527-4f7a-d7dc-96b7bb419b2a"
      },
      "execution_count": 15,
      "outputs": [
        {
          "output_type": "execute_result",
          "data": {
            "text/plain": [
              "6"
            ]
          },
          "metadata": {},
          "execution_count": 15
        }
      ]
    },
    {
      "cell_type": "code",
      "source": [
        "#Task-12\n",
        "def sum_nested(lst):\n",
        "    \"\"\"\n",
        "    Calculates the sum of all the numbers in a nested list.\n",
        "\n",
        "    Parameters:\n",
        "    lst (list): The nested list.\n",
        "\n",
        "    Returns:\n",
        "    float: The sum of all elements.\n",
        "    \"\"\"\n",
        "    return sum(flatten(lst))\n",
        "\n",
        "sum_nested([[1, 2], [3, [4, 5]], 6])"
      ],
      "metadata": {
        "colab": {
          "base_uri": "https://localhost:8080/"
        },
        "id": "GXjp5fsN_J0r",
        "outputId": "f39cab83-45f4-4da8-9a21-8c76692c5ff3"
      },
      "execution_count": 16,
      "outputs": [
        {
          "output_type": "execute_result",
          "data": {
            "text/plain": [
              "21"
            ]
          },
          "metadata": {},
          "execution_count": 16
        }
      ]
    },
    {
      "cell_type": "code",
      "source": [
        "#Task-13\n",
        "def remove_element(lst, elem):\n",
        "    \"\"\"\n",
        "    Removes all occurrences of a specific element from a nested list.\n",
        "\n",
        "    Parameters:\n",
        "    lst (list): The nested list.\n",
        "    elem (any): The element to remove.\n",
        "\n",
        "    Returns:\n",
        "    list: The modified list.\n",
        "    \"\"\"\n",
        "    return [remove_element(item, elem) if isinstance(item, list) else item for item in lst if item != elem]\n",
        "\n",
        "remove_element([[1, 2], [3, 2], [4, 5]],2)"
      ],
      "metadata": {
        "colab": {
          "base_uri": "https://localhost:8080/"
        },
        "id": "clwq9Yt2_LK7",
        "outputId": "9ed5e11d-005d-4d09-d2e5-58908ed96f15"
      },
      "execution_count": 17,
      "outputs": [
        {
          "output_type": "execute_result",
          "data": {
            "text/plain": [
              "[[1], [3], [4, 5]]"
            ]
          },
          "metadata": {},
          "execution_count": 17
        }
      ]
    },
    {
      "cell_type": "code",
      "source": [
        "#Task-14\n",
        "def find_max(lst):\n",
        "    \"\"\"\n",
        "    Finds the maximum element in a nested list.\n",
        "\n",
        "    Parameters:\n",
        "    lst (list): The nested list.\n",
        "\n",
        "    Returns:\n",
        "    float: The maximum element.\n",
        "    \"\"\"\n",
        "    return max(flatten(lst))\n",
        "\n",
        "find_max([[1, 2], [3, [4, 5]], 6])"
      ],
      "metadata": {
        "colab": {
          "base_uri": "https://localhost:8080/"
        },
        "id": "xb2P8XPB_Yv_",
        "outputId": "9bce333d-6b26-41c3-837a-c0c6dbd202fa"
      },
      "execution_count": 18,
      "outputs": [
        {
          "output_type": "execute_result",
          "data": {
            "text/plain": [
              "6"
            ]
          },
          "metadata": {},
          "execution_count": 18
        }
      ]
    },
    {
      "cell_type": "code",
      "source": [
        "#Task-15\n",
        "def count_occurrences(lst, elem):\n",
        "    \"\"\"\n",
        "    Recursively counts the occurrences of a specific element in a nested list.\n",
        "\n",
        "    Parameters:\n",
        "    lst (list): The nested list to search in.\n",
        "    elem (any): The element whose occurrences need to be counted.\n",
        "\n",
        "    Returns:\n",
        "    int: The number of times elem appears in the nested list.\n",
        "    \"\"\"\n",
        "    count = 0\n",
        "    for item in lst:\n",
        "        if isinstance(item, list):  # If item is a list, recurse into it\n",
        "            count += count_occurrences(item, elem)\n",
        "        elif item == elem:  # If item matches elem, increase count\n",
        "            count += 1\n",
        "    return count\n",
        "\n",
        "# Example usage\n",
        "nested_list = [[1, 2], [2, 3], [2, 4]]\n",
        "result = count_occurrences(nested_list, 2)\n",
        "print(result)\n"
      ],
      "metadata": {
        "colab": {
          "base_uri": "https://localhost:8080/"
        },
        "id": "qXdKBpeNAZkn",
        "outputId": "4a33450f-c46b-4e08-8526-f3260e6ae2a6"
      },
      "execution_count": 20,
      "outputs": [
        {
          "output_type": "stream",
          "name": "stdout",
          "text": [
            "3\n"
          ]
        }
      ]
    },
    {
      "cell_type": "code",
      "source": [
        "#Task16\n",
        "def deep_flatten(lst):\n",
        "    \"\"\"\n",
        "    Recursively flattens a deeply nested list into a single list.\n",
        "\n",
        "    Parameters:\n",
        "    lst (list): The nested list to be flattened.\n",
        "\n",
        "    Returns:\n",
        "    list: A flattened version of the input list.\n",
        "    \"\"\"\n",
        "    flattened_list = []\n",
        "    for item in lst:\n",
        "        if isinstance(item, list):  # If the item is a list, recurse into it\n",
        "            flattened_list.extend(deep_flatten(item))\n",
        "        else:  # If it's not a list, add it to the result\n",
        "            flattened_list.append(item)\n",
        "    return flattened_list\n",
        "\n",
        "# Example usage\n",
        "nested_list = [[[1, 2], [3, 4]], [[5, 6], [7, 8]]]\n",
        "result = deep_flatten(nested_list)\n",
        "print(result)\n"
      ],
      "metadata": {
        "colab": {
          "base_uri": "https://localhost:8080/"
        },
        "id": "QKp5XQgrAeuT",
        "outputId": "31a72902-973d-423e-f7e6-d944fc5e3182"
      },
      "execution_count": 21,
      "outputs": [
        {
          "output_type": "stream",
          "name": "stdout",
          "text": [
            "[1, 2, 3, 4, 5, 6, 7, 8]\n"
          ]
        }
      ]
    },
    {
      "cell_type": "code",
      "source": [
        "#Task-17\n",
        "def average_nested(lst):\n",
        "    \"\"\"\n",
        "    Recursively calculates the average of all elements in a nested list.\n",
        "\n",
        "    Parameters:\n",
        "    lst (list): The nested list containing numbers.\n",
        "\n",
        "    Returns:\n",
        "    float: The average of all numbers in the nested list.\n",
        "    \"\"\"\n",
        "    def flatten_and_sum(lst):\n",
        "        \"\"\" Helper function to flatten list and sum elements with count. \"\"\"\n",
        "        total_sum = 0\n",
        "        count = 0\n",
        "        for item in lst:\n",
        "            if isinstance(item, list):\n",
        "                sub_sum, sub_count = flatten_and_sum(item)\n",
        "                total_sum += sub_sum\n",
        "                count += sub_count\n",
        "            else:\n",
        "                total_sum += item\n",
        "                count += 1\n",
        "        return total_sum, count\n",
        "\n",
        "    total, count = flatten_and_sum(lst)\n",
        "    return total / count if count > 0 else 0  # Avoid division by zero\n",
        "\n",
        "# Example usage\n",
        "nested_list = [[1, 2], [3, 4], [5, 6]]\n",
        "result = average_nested(nested_list)\n",
        "print(result)\n"
      ],
      "metadata": {
        "colab": {
          "base_uri": "https://localhost:8080/"
        },
        "id": "cCAz5pKQAiDO",
        "outputId": "fea5e33a-6c68-4a5b-f674-474a86a1c599"
      },
      "execution_count": 22,
      "outputs": [
        {
          "output_type": "stream",
          "name": "stdout",
          "text": [
            "3.5\n"
          ]
        }
      ]
    },
    {
      "cell_type": "markdown",
      "source": [
        "# Basic Vector and Matrix Operation with Numpy."
      ],
      "metadata": {
        "id": "65I1gyYxAsAt"
      }
    },
    {
      "cell_type": "markdown",
      "source": [
        "# Problem - 1: Array Creation:"
      ],
      "metadata": {
        "id": "9-vxaK6qAuoM"
      }
    },
    {
      "cell_type": "code",
      "source": [
        "import numpy as np\n",
        "\n",
        "# 1. Initialize an empty array with size 2x2\n",
        "empty_array = np.empty((2, 2))\n",
        "print(\"Empty 2x2 Array:\\n\", empty_array)\n",
        "print(\"---------------\")\n",
        "\n",
        "# 2. Initialize an all ones array with size 4x2\n",
        "ones_array = np.ones((4, 2))\n",
        "print(\"All Ones 4x2 Array:\\n\", ones_array)\n",
        "print(\"---------------\")\n",
        "\n",
        "# 3. Return a new array of given shape and type, filled with fill value\n",
        "fill_value_array = np.full((3, 3), 5)  # Shape: 3x3, Fill Value: 5\n",
        "print(\"Array Filled with Value 5:\\n\", fill_value_array)\n",
        "print(\"---------------\")\n",
        "\n",
        "# 4. Return a new array of zeros with same shape and type as a given array\n",
        "given_array = np.array([[1, 2], [3, 4]])\n",
        "zeros_like_array = np.zeros_like(given_array)\n",
        "print(\"Zeros Array with Same Shape as Given Array:\\n\", zeros_like_array)\n",
        "print(\"---------------\")\n",
        "\n",
        "# 5. Return a new array of ones with same shape and type as a given array\n",
        "ones_like_array = np.ones_like(given_array)\n",
        "print(\"Ones Array with Same Shape as Given Array:\\n\", ones_like_array)\n",
        "print(\"---------------\")\n",
        "\n",
        "# 6. Convert a list to a NumPy array\n",
        "new_list = [1, 2, 3, 4]\n",
        "numpy_array = np.array(new_list)\n",
        "print(\"Converted NumPy Array from List:\\n\", numpy_array)"
      ],
      "metadata": {
        "colab": {
          "base_uri": "https://localhost:8080/"
        },
        "id": "3auzkrEZA0fa",
        "outputId": "4196f1d2-be96-4379-cd94-1a458ff93dc5"
      },
      "execution_count": 23,
      "outputs": [
        {
          "output_type": "stream",
          "name": "stdout",
          "text": [
            "Empty 2x2 Array:\n",
            " [[2.97708696e-316 0.00000000e+000]\n",
            " [4.94065646e-324             nan]]\n",
            "---------------\n",
            "All Ones 4x2 Array:\n",
            " [[1. 1.]\n",
            " [1. 1.]\n",
            " [1. 1.]\n",
            " [1. 1.]]\n",
            "---------------\n",
            "Array Filled with Value 5:\n",
            " [[5 5 5]\n",
            " [5 5 5]\n",
            " [5 5 5]]\n",
            "---------------\n",
            "Zeros Array with Same Shape as Given Array:\n",
            " [[0 0]\n",
            " [0 0]]\n",
            "---------------\n",
            "Ones Array with Same Shape as Given Array:\n",
            " [[1 1]\n",
            " [1 1]]\n",
            "---------------\n",
            "Converted NumPy Array from List:\n",
            " [1 2 3 4]\n"
          ]
        }
      ]
    },
    {
      "cell_type": "markdown",
      "source": [
        "# Problem - 2: Array Manipulation: Numerical Ranges and Array indexing:"
      ],
      "metadata": {
        "id": "fNcVSQITA6cR"
      }
    },
    {
      "cell_type": "code",
      "source": [
        "# 1. Create an array with values ranging from 10 to 49\n",
        "range_array = np.arange(10, 50)\n",
        "print(\"Array with Values from 10 to 49:\\n\", range_array)\n",
        "print(\"---------------\")\n",
        "\n",
        "# 2. Create a 3x3 matrix with values ranging from 0 to 8\n",
        "matrix_3x3 = np.arange(9).reshape(3, 3)\n",
        "print(\"3x3 Matrix with Values 0 to 8:\\n\", matrix_3x3)\n",
        "print(\"---------------\")\n",
        "\n",
        "# 3. Create a 3x3 identity matrix\n",
        "identity_matrix = np.eye(3)\n",
        "print(\"3x3 Identity Matrix:\\n\", identity_matrix)\n",
        "print(\"---------------\")\n",
        "\n",
        "# 4. Create a random array of size 30 and find the mean\n",
        "random_array = np.random.random(30)\n",
        "mean_value = random_array.mean()\n",
        "print(\"Random Array of Size 30:\\n\", random_array)\n",
        "print(\"Mean of Random Array:\", mean_value)\n",
        "print(\"---------------\")\n",
        "\n",
        "# 5. Create a 10x10 array with random values and find the min and max\n",
        "random_10x10 = np.random.random((10, 10))\n",
        "min_value = random_10x10.min()\n",
        "max_value = random_10x10.max()\n",
        "print(\"10x10 Random Array:\\n\", random_10x10)\n",
        "print(\"Minimum Value:\", min_value)\n",
        "print(\"Maximum Value:\", max_value)\n",
        "print(\"---------------\")\n",
        "\n",
        "# 6. Create a zero array of size 10 and replace the 5th element with 1\n",
        "zero_array = np.zeros(10)\n",
        "zero_array[4] = 1  # Indexing starts from 0\n",
        "print(\"Zero Array with 5th Element Replaced:\\n\", zero_array)\n",
        "print(\"---------------\")\n",
        "\n",
        "# 7. Reverse an array\n",
        "arr = np.array([1, 2, 0, 0, 4, 0])\n",
        "reversed_arr = arr[::-1]\n",
        "print(\"Reversed Array:\\n\", reversed_arr)\n",
        "print(\"---------------\")\n",
        "\n",
        "# 8. Create a 2D array with 1 on the border and 0 inside\n",
        "border_array = np.ones((5, 5))\n",
        "border_array[1:-1, 1:-1] = 0\n",
        "print(\"2D Array with 1 on Border and 0 Inside:\\n\", border_array)\n",
        "print(\"---------------\")\n",
        "\n",
        "# 9. Create an 8x8 checkerboard pattern\n",
        "checkerboard = np.zeros((8, 8))\n",
        "checkerboard[1::2, ::2] = 1\n",
        "checkerboard[::2, 1::2] = 1\n",
        "print(\"8x8 Checkerboard Pattern:\\n\", checkerboard)"
      ],
      "metadata": {
        "colab": {
          "base_uri": "https://localhost:8080/"
        },
        "id": "DxEl4BDzA4CL",
        "outputId": "b189f277-b446-404b-efdc-20199d37f08e"
      },
      "execution_count": 24,
      "outputs": [
        {
          "output_type": "stream",
          "name": "stdout",
          "text": [
            "Array with Values from 10 to 49:\n",
            " [10 11 12 13 14 15 16 17 18 19 20 21 22 23 24 25 26 27 28 29 30 31 32 33\n",
            " 34 35 36 37 38 39 40 41 42 43 44 45 46 47 48 49]\n",
            "---------------\n",
            "3x3 Matrix with Values 0 to 8:\n",
            " [[0 1 2]\n",
            " [3 4 5]\n",
            " [6 7 8]]\n",
            "---------------\n",
            "3x3 Identity Matrix:\n",
            " [[1. 0. 0.]\n",
            " [0. 1. 0.]\n",
            " [0. 0. 1.]]\n",
            "---------------\n",
            "Random Array of Size 30:\n",
            " [0.12435882 0.72818532 0.18125192 0.93014172 0.52241098 0.13973259\n",
            " 0.10153006 0.98554413 0.45205851 0.0032171  0.76563262 0.57882806\n",
            " 0.69205358 0.81135984 0.99175409 0.36029489 0.58129612 0.53470026\n",
            " 0.52929828 0.59280737 0.57353158 0.24558102 0.78652724 0.1095297\n",
            " 0.043054   0.67789569 0.4258267  0.02454861 0.8250604  0.57318722]\n",
            "Mean of Random Array: 0.49637328134754516\n",
            "---------------\n",
            "10x10 Random Array:\n",
            " [[0.9753472  0.32006754 0.55248545 0.15987926 0.32373615 0.71245022\n",
            "  0.29657311 0.85303391 0.39046578 0.34688701]\n",
            " [0.34300095 0.93902186 0.41177167 0.39955402 0.02032227 0.51061091\n",
            "  0.08754588 0.30038741 0.22175116 0.86386685]\n",
            " [0.97422166 0.50583306 0.64467735 0.36879387 0.3568726  0.48295747\n",
            "  0.24906896 0.49474763 0.75177725 0.21003335]\n",
            " [0.85898982 0.25027368 0.82069391 0.10159614 0.52115474 0.91399862\n",
            "  0.60332195 0.8037214  0.97106864 0.38656109]\n",
            " [0.90928555 0.44364629 0.06114453 0.5813733  0.92866715 0.67011019\n",
            "  0.73316415 0.36950214 0.52573781 0.39854119]\n",
            " [0.10163736 0.90856074 0.64374302 0.38484112 0.83678815 0.58527514\n",
            "  0.64134982 0.29585751 0.89479806 0.12751645]\n",
            " [0.02388139 0.7717473  0.0865834  0.18763783 0.39580428 0.69748718\n",
            "  0.41133645 0.80162354 0.37781209 0.06574483]\n",
            " [0.09140447 0.72383457 0.3825126  0.84273559 0.28360411 0.58678214\n",
            "  0.23433074 0.91712513 0.58318038 0.11567157]\n",
            " [0.88810136 0.33257294 0.70959952 0.60312953 0.68732515 0.98738126\n",
            "  0.98289304 0.54579961 0.43542287 0.0152784 ]\n",
            " [0.5704797  0.52201961 0.70260636 0.76089852 0.46680281 0.06066613\n",
            "  0.12555156 0.59401052 0.82349553 0.92707462]]\n",
            "Minimum Value: 0.01527839595101832\n",
            "Maximum Value: 0.9873812552543949\n",
            "---------------\n",
            "Zero Array with 5th Element Replaced:\n",
            " [0. 0. 0. 0. 1. 0. 0. 0. 0. 0.]\n",
            "---------------\n",
            "Reversed Array:\n",
            " [0 4 0 0 2 1]\n",
            "---------------\n",
            "2D Array with 1 on Border and 0 Inside:\n",
            " [[1. 1. 1. 1. 1.]\n",
            " [1. 0. 0. 0. 1.]\n",
            " [1. 0. 0. 0. 1.]\n",
            " [1. 0. 0. 0. 1.]\n",
            " [1. 1. 1. 1. 1.]]\n",
            "---------------\n",
            "8x8 Checkerboard Pattern:\n",
            " [[0. 1. 0. 1. 0. 1. 0. 1.]\n",
            " [1. 0. 1. 0. 1. 0. 1. 0.]\n",
            " [0. 1. 0. 1. 0. 1. 0. 1.]\n",
            " [1. 0. 1. 0. 1. 0. 1. 0.]\n",
            " [0. 1. 0. 1. 0. 1. 0. 1.]\n",
            " [1. 0. 1. 0. 1. 0. 1. 0.]\n",
            " [0. 1. 0. 1. 0. 1. 0. 1.]\n",
            " [1. 0. 1. 0. 1. 0. 1. 0.]]\n"
          ]
        }
      ]
    },
    {
      "cell_type": "markdown",
      "source": [
        "# Problem - 3: Array Operations:"
      ],
      "metadata": {
        "id": "Jqe0FCltBCpq"
      }
    },
    {
      "cell_type": "code",
      "source": [
        "# Given arrays\n",
        "x = np.array([[1, 2], [3, 5]])\n",
        "y = np.array([[5, 6], [7, 8]])\n",
        "v = np.array([9, 10])\n",
        "w = np.array([11, 12])\n",
        "\n",
        "# 1. Add the two arrays\n",
        "add_result = x + y\n",
        "print(\"Addition of x and y:\\n\", add_result)\n",
        "print(\"---------------\")\n",
        "\n",
        "# 2. Subtract the two arrays\n",
        "subtract_result = x - y\n",
        "print(\"Subtraction of x and y:\\n\", subtract_result)\n",
        "print(\"---------------\")\n",
        "\n",
        "# 3. Multiply the array with an integer\n",
        "multiply_result = x * 2\n",
        "print(\"Multiplication of x by 2:\\n\", multiply_result)\n",
        "print(\"---------------\")\n",
        "\n",
        "# 4. Find the square of each element\n",
        "square_result = np.square(x)\n",
        "print(\"Square of Each Element in x:\\n\", square_result)\n",
        "print(\"---------------\")\n",
        "\n",
        "# 5. Find the dot product\n",
        "dot_vw = np.dot(v, w)\n",
        "dot_xv = np.dot(x, v)\n",
        "dot_xy = np.dot(x, y)\n",
        "print(\"Dot Product of v and w:\", dot_vw)\n",
        "print(\"Dot Product of x and v:\", dot_xv)\n",
        "print(\"Dot Product of x and y:\\n\", dot_xy)\n",
        "print(\"---------------\")\n",
        "\n",
        "# 6. Concatenate x and y along rows, and v and w along columns\n",
        "concatenate_rows = np.concatenate((x, y), axis=0)\n",
        "concatenate_columns = np.vstack((v, w))\n",
        "print(\"Concatenate x and y along rows:\\n\", concatenate_rows)\n",
        "print(\"Concatenate v and w along columns:\\n\", concatenate_columns)\n",
        "print(\"---------------\")\n",
        "\n",
        "# 7. Concatenate x and v (will raise an error)\n",
        "try:\n",
        "    concatenate_xv = np.concatenate((x, v))\n",
        "except ValueError as e:\n",
        "    print(\"Error:\", e)\n",
        "    print(\"Explanation: Shapes of x (2x2) and v (2,) are not compatible for concatenation.\")"
      ],
      "metadata": {
        "colab": {
          "base_uri": "https://localhost:8080/"
        },
        "id": "eWHKtAUcA_4J",
        "outputId": "d89761ba-16d7-464f-fc54-fca99bd1d273"
      },
      "execution_count": 25,
      "outputs": [
        {
          "output_type": "stream",
          "name": "stdout",
          "text": [
            "Addition of x and y:\n",
            " [[ 6  8]\n",
            " [10 13]]\n",
            "---------------\n",
            "Subtraction of x and y:\n",
            " [[-4 -4]\n",
            " [-4 -3]]\n",
            "---------------\n",
            "Multiplication of x by 2:\n",
            " [[ 2  4]\n",
            " [ 6 10]]\n",
            "---------------\n",
            "Square of Each Element in x:\n",
            " [[ 1  4]\n",
            " [ 9 25]]\n",
            "---------------\n",
            "Dot Product of v and w: 219\n",
            "Dot Product of x and v: [29 77]\n",
            "Dot Product of x and y:\n",
            " [[19 22]\n",
            " [50 58]]\n",
            "---------------\n",
            "Concatenate x and y along rows:\n",
            " [[1 2]\n",
            " [3 5]\n",
            " [5 6]\n",
            " [7 8]]\n",
            "Concatenate v and w along columns:\n",
            " [[ 9 10]\n",
            " [11 12]]\n",
            "---------------\n",
            "Error: all the input arrays must have same number of dimensions, but the array at index 0 has 2 dimension(s) and the array at index 1 has 1 dimension(s)\n",
            "Explanation: Shapes of x (2x2) and v (2,) are not compatible for concatenation.\n"
          ]
        }
      ]
    },
    {
      "cell_type": "markdown",
      "source": [
        "# Problem - 4: Matrix Operations:"
      ],
      "metadata": {
        "id": "MXMhnN13BLfN"
      }
    },
    {
      "cell_type": "code",
      "source": [
        "# Given arrays\n",
        "A = np.array([[3, 4], [7, 8]])\n",
        "B = np.array([[5, 3], [2, 1]])\n",
        "\n",
        "# 1. Prove A.A^-1 = I\n",
        "A_inv = np.linalg.inv(A)\n",
        "identity_check = np.dot(A, A_inv)\n",
        "print(\"A.A^-1:\\n\", identity_check)\n",
        "print(\"---------------\")\n",
        "\n",
        "# 2. Prove AB != BA\n",
        "AB = np.dot(A, B)\n",
        "BA = np.dot(B, A)\n",
        "print(\"AB:\\n\", AB)\n",
        "print(\"BA:\\n\", BA)\n",
        "print(\"Is AB != BA?\", not np.array_equal(AB, BA))\n",
        "print(\"---------------\")\n",
        "\n",
        "# 3. Prove (AB)^T = B^T A^T\n",
        "AB_transpose = AB.T\n",
        "B_transpose_A_transpose = np.dot(B.T, A.T)\n",
        "print(\"(AB)^T:\\n\", AB_transpose)\n",
        "print(\"B^T A^T:\\n\", B_transpose_A_transpose)\n",
        "print(\"Is (AB)^T == B^T A^T?\", np.array_equal(AB_transpose, B_transpose_A_transpose))\n",
        "print(\"---------------\")\n",
        "\n",
        "# Solve the system of linear equations\n",
        "# 2x - 3y + z = -1\n",
        "# x - y + 2z = -3\n",
        "# 3x + y - z = 9\n",
        "\n",
        "# Matrix form: AX = B\n",
        "A_eq = np.array([[2, -3, 1], [1, -1, 2], [3, 1, -1]])\n",
        "B_eq = np.array([-1, -3, 9])\n",
        "print(\"---------------\")\n",
        "\n",
        "# Solve using inverse method\n",
        "X = np.dot(np.linalg.inv(A_eq), B_eq)\n",
        "print(\"Solution using Inverse Method:\", X)\n",
        "print(\"---------------\")\n",
        "\n",
        "# Solve using np.linalg.solve\n",
        "X_solve = np.linalg.solve(A_eq, B_eq)\n",
        "print(\"Solution using np.linalg.solve:\", X_solve)"
      ],
      "metadata": {
        "colab": {
          "base_uri": "https://localhost:8080/"
        },
        "id": "UIoHb__fBMlN",
        "outputId": "c005e0ed-9444-41b1-cd12-93ebef73b27d"
      },
      "execution_count": 26,
      "outputs": [
        {
          "output_type": "stream",
          "name": "stdout",
          "text": [
            "A.A^-1:\n",
            " [[1.00000000e+00 0.00000000e+00]\n",
            " [1.77635684e-15 1.00000000e+00]]\n",
            "---------------\n",
            "AB:\n",
            " [[23 13]\n",
            " [51 29]]\n",
            "BA:\n",
            " [[36 44]\n",
            " [13 16]]\n",
            "Is AB != BA? True\n",
            "---------------\n",
            "(AB)^T:\n",
            " [[23 51]\n",
            " [13 29]]\n",
            "B^T A^T:\n",
            " [[23 51]\n",
            " [13 29]]\n",
            "Is (AB)^T == B^T A^T? True\n",
            "---------------\n",
            "---------------\n",
            "Solution using Inverse Method: [ 2.  1. -2.]\n",
            "---------------\n",
            "Solution using np.linalg.solve: [ 2.  1. -2.]\n"
          ]
        }
      ]
    },
    {
      "cell_type": "markdown",
      "source": [
        "# Experiment: How Fast is Numpy?"
      ],
      "metadata": {
        "id": "ut4G1tOkBQWS"
      }
    },
    {
      "cell_type": "code",
      "source": [
        "import time\n",
        "import numpy as np\n",
        "\n",
        "# Function to measure time taken for an operation\n",
        "def measure_time(func, *args):\n",
        "    start_time = time.time()\n",
        "    func(*args)\n",
        "    end_time = time.time()\n",
        "    return end_time - start_time\n",
        "\n",
        "# 1. Element-wise Addition\n",
        "def elementwise_addition_python(list1, list2):\n",
        "    return [a + b for a, b in zip(list1, list2)]\n",
        "\n",
        "def elementwise_addition_numpy(array1, array2):\n",
        "    return array1 + array2\n",
        "\n",
        "# 2. Element-wise Multiplication\n",
        "def elementwise_multiplication_python(list1, list2):\n",
        "    return [a * b for a, b in zip(list1, list2)]\n",
        "\n",
        "def elementwise_multiplication_numpy(array1, array2):\n",
        "    return array1 * array2\n",
        "\n",
        "# 3. Dot Product\n",
        "def dot_product_python(list1, list2):\n",
        "    return sum(a * b for a, b in zip(list1, list2))\n",
        "\n",
        "def dot_product_numpy(array1, array2):\n",
        "    return np.dot(array1, array2)\n",
        "\n",
        "# 4. Matrix Multiplication\n",
        "def matrix_multiplication_python(matrix1, matrix2):\n",
        "    result = [[sum(a * b for a, b in zip(row, col)) for col in zip(*matrix2)] for row in matrix1]\n",
        "    return result\n",
        "\n",
        "def matrix_multiplication_numpy(matrix1, matrix2):\n",
        "    return np.dot(matrix1, matrix2)\n",
        "\n",
        "# Initialize data\n",
        "size = 1000000\n",
        "list1 = list(range(size))\n",
        "list2 = list(range(size, 2 * size))\n",
        "array1 = np.arange(size)\n",
        "array2 = np.arange(size, 2 * size)\n",
        "\n",
        "matrix_size = 1000\n",
        "matrix1 = [[i + j for j in range(matrix_size)] for i in range(matrix_size)]\n",
        "matrix2 = [[i - j for j in range(matrix_size)] for i in range(matrix_size)]\n",
        "np_matrix1 = np.array(matrix1)\n",
        "np_matrix2 = np.array(matrix2)\n",
        "\n",
        "# Measure time for each operation\n",
        "print(\"1. Element-wise Addition:\")\n",
        "time_python_add = measure_time(elementwise_addition_python, list1, list2)\n",
        "time_numpy_add = measure_time(elementwise_addition_numpy, array1, array2)\n",
        "print(f\"Python Lists: {time_python_add:.6f} seconds\")\n",
        "print(f\"NumPy Arrays: {time_numpy_add:.6f} seconds\")\n",
        "\n",
        "print(\"\\n2. Element-wise Multiplication:\")\n",
        "time_python_mul = measure_time(elementwise_multiplication_python, list1, list2)\n",
        "time_numpy_mul = measure_time(elementwise_multiplication_numpy, array1, array2)\n",
        "print(f\"Python Lists: {time_python_mul:.6f} seconds\")\n",
        "print(f\"NumPy Arrays: {time_numpy_mul:.6f} seconds\")\n",
        "\n",
        "print(\"\\n3. Dot Product:\")\n",
        "time_python_dot = measure_time(dot_product_python, list1, list2)\n",
        "time_numpy_dot = measure_time(dot_product_numpy, array1, array2)\n",
        "print(f\"Python Lists: {time_python_dot:.6f} seconds\")\n",
        "print(f\"NumPy Arrays: {time_numpy_dot:.6f} seconds\")\n",
        "\n",
        "print(\"\\n4. Matrix Multiplication:\")\n",
        "time_python_matmul = measure_time(matrix_multiplication_python, matrix1, matrix2)\n",
        "time_numpy_matmul = measure_time(matrix_multiplication_numpy, np_matrix1, np_matrix2)\n",
        "print(f\"Python Lists: {time_python_matmul:.6f} seconds\")\n",
        "print(f\"NumPy Arrays: {time_numpy_matmul:.6f} seconds\")"
      ],
      "metadata": {
        "colab": {
          "base_uri": "https://localhost:8080/"
        },
        "id": "WOot8cs0BPo8",
        "outputId": "19f2ff9d-7898-4d09-becf-76585d02ed17"
      },
      "execution_count": 27,
      "outputs": [
        {
          "output_type": "stream",
          "name": "stdout",
          "text": [
            "1. Element-wise Addition:\n",
            "Python Lists: 0.190488 seconds\n",
            "NumPy Arrays: 0.004792 seconds\n",
            "\n",
            "2. Element-wise Multiplication:\n",
            "Python Lists: 0.107430 seconds\n",
            "NumPy Arrays: 0.002478 seconds\n",
            "\n",
            "3. Dot Product:\n",
            "Python Lists: 0.079836 seconds\n",
            "NumPy Arrays: 0.001622 seconds\n",
            "\n",
            "4. Matrix Multiplication:\n",
            "Python Lists: 167.773399 seconds\n",
            "NumPy Arrays: 1.950703 seconds\n"
          ]
        }
      ]
    }
  ]
}